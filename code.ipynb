{
 "cells": [
  {
   "cell_type": "markdown",
   "metadata": {},
   "source": [
    "****************************** BASE CODE ****************************************************"
   ]
  },
  {
   "cell_type": "code",
   "execution_count": 11,
   "metadata": {},
   "outputs": [
    {
     "name": "stdout",
     "output_type": "stream",
     "text": [
      "*******existing data in database\n",
      "(1, '<div>bbc.txt</div>', 'prepared')\n",
      "(2, '3', '4')\n",
      "(3, 'abc.txt', 'cdhsjkcsdb')\n",
      "(4, 'John', 'Highway 21')\n",
      "(5, 'abc.txt', 'cdhsjkcsdb')\n",
      "(9, 'after.txt', '                Numa node\\n Numa node            0       1       2       3       4       5       6       7\\n        0          79.8   118.0   128.6   133.1   224.5   232.1   223.2   224.3\\n        1         116.8    80.8   134.0   127.0   234.7   241.7   232')\n",
      "(10, 'after.txt', '                Numa node\\n Numa node            0       1       2       3       4       5       6       7\\n        0          79.8   118.0   128.6   133.1   224.5   232.1   223.2   224.3\\n        1         116.8    80.8   134.0   127.0   234.7   241.7   232')\n",
      "(11, 'after.txt', '                Numa node\\n Numa node            0       1       2       3       4       5       6       7\\n        0          79.8   118.0   128.6   133.1   224.5   232.1   223.2   224.3\\n        1         116.8    80.8   134.0   127.0   234.7   241.7   232')\n",
      "(12, 'after.txt', '                Numa node\\n Numa node            0       1       2       3       4       5       6       7\\n        0          79.8   118.0   128.6   133.1   224.5   232.1   223.2   224.3\\n        1         116.8    80.8   134.0   127.0   234.7   241.7   232')\n",
      "*******after inserting data in database\n",
      "(1, '<div>bbc.txt</div>', 'prepared')\n",
      "(2, '3', '4')\n",
      "(3, 'abc.txt', 'cdhsjkcsdb')\n",
      "(4, 'John', 'Highway 21')\n",
      "(5, 'abc.txt', 'cdhsjkcsdb')\n",
      "(9, 'after.txt', '                Numa node\\n Numa node            0       1       2       3       4       5       6       7\\n        0          79.8   118.0   128.6   133.1   224.5   232.1   223.2   224.3\\n        1         116.8    80.8   134.0   127.0   234.7   241.7   232')\n",
      "(10, 'after.txt', '                Numa node\\n Numa node            0       1       2       3       4       5       6       7\\n        0          79.8   118.0   128.6   133.1   224.5   232.1   223.2   224.3\\n        1         116.8    80.8   134.0   127.0   234.7   241.7   232')\n",
      "(11, 'after.txt', '                Numa node\\n Numa node            0       1       2       3       4       5       6       7\\n        0          79.8   118.0   128.6   133.1   224.5   232.1   223.2   224.3\\n        1         116.8    80.8   134.0   127.0   234.7   241.7   232')\n",
      "(12, 'after.txt', '                Numa node\\n Numa node            0       1       2       3       4       5       6       7\\n        0          79.8   118.0   128.6   133.1   224.5   232.1   223.2   224.3\\n        1         116.8    80.8   134.0   127.0   234.7   241.7   232')\n",
      "(13, 'after.txt', 'This is an inspiring story of a class 11 student from Puddukkottai in Tamil Nadu who braved all challenges with hard work, grit and determination to win a trip to NASA. Let’s take a moment to appreciate K Jayalakshmi for scripting history as')\n"
     ]
    }
   ],
   "source": [
    "                        \n",
    "filepath_string=\"after.txt\"                                                        #specify file path\n",
    "with open(filepath_string) as fp:\n",
    "   lines=fp.readlines()\n",
    "listToStr = ' '.join([str(elem) for elem in lines])                               # whole file is stored in one string, incase if you want to store the content line by line in each row, slight modification in code will do\n",
    "import pyodbc\n",
    "[x for x in pyodbc.drivers() if x.startswith('Microsoft Access Driver')]         # data base connection\n",
    "conn_str = (r'Driver={Microsoft Access Driver (*.mdb, *.accdb)};Dbq=C:\\Users\\sairajes\\Documents\\Database1.accdb;')\n",
    "                                                    \n",
    "cnxn = pyodbc.connect(conn_str)\n",
    "cursor = cnxn.cursor()\n",
    "cursor.execute('select * from Table1')\n",
    "print(\"*******existing data in database\")                                      \n",
    "for row in cursor.fetchall():\n",
    "    print (row)\n",
    "sql = \"INSERT INTO Table1(filepath, filedata) VALUES (?,?)\"                   #insertion\n",
    "val = (filepath_string,listToStr )\n",
    "cursor.execute(sql,val)   \n",
    "cnxn.commit()                                                                #disconnecting the database\n",
    "\n",
    "\n",
    "cnxn = pyodbc.connect(conn_str)                                              #connecting to data base and confirming insertion\n",
    "cursor = cnxn.cursor()\n",
    "cursor.execute('select * from Table1')\n",
    "print(\"*******after inserting data in database\")\n",
    "for row in cursor.fetchall():\n",
    "    print (row)\n",
    "cnxn.commit()"
   ]
  },
  {
   "cell_type": "code",
   "execution_count": null,
   "metadata": {},
   "outputs": [],
   "source": [
    "****************command prompt code**************"
   ]
  },
  {
   "cell_type": "code",
   "execution_count": null,
   "metadata": {},
   "outputs": [],
   "source": [
    "TextDataToDatabase(file_path):\n",
    "    filepath_string=file_path                                                        #specify file path\n",
    "    with open(filepath_string) as fp:\n",
    "       lines=fp.readlines()\n",
    "    listToStr = ' '.join([str(elem) for elem in lines])                               # whole file is stored in one string\n",
    "    import pyodbc\n",
    "    [x for x in pyodbc.drivers() if x.startswith('Microsoft Access Driver')]         # data base connection\n",
    "    conn_str = (r'Driver={Microsoft Access Driver (*.mdb, *.accdb)};Dbq=C:\\Users\\sairajes\\Documents\\Database1.accdb;')\n",
    "\n",
    "    cnxn = pyodbc.connect(conn_str)\n",
    "    cursor = cnxn.cursor()\n",
    "    cursor.execute('select * from Table1')\n",
    "    print(\"*******existing data in database\")                                      \n",
    "    for row in cursor.fetchall():\n",
    "        print (row)\n",
    "    sql = \"INSERT INTO Table1(filepath, filedata) VALUES (?,?)\"                   #insertion\n",
    "    val = (filepath_string,listToStr )\n",
    "    cursor.execute(sql,val)   \n",
    "    cnxn.commit()                                                                #disconnecting the database\n",
    "\n",
    "\n",
    "    cnxn = pyodbc.connect(conn_str)                                              #connecting to data base and confirming insertion\n",
    "    cursor = cnxn.cursor()\n",
    "    cursor.execute('select * from Table1')\n",
    "    print(\"*******after inserting data in database\")\n",
    "    for row in cursor.fetchall():\n",
    "        print (row)\n",
    "    cnxn.commit()"
   ]
  },
  {
   "cell_type": "code",
   "execution_count": null,
   "metadata": {},
   "outputs": [],
   "source": [
    "#when you pass multiple text paths at a time on command prompt <ex:>python untitled.py file1.txt,file2.txt,file3.txt\n",
    "import sys\n",
    "import string\n",
    "\n",
    "argument_li = []\n",
    "commandlineArgs=sys.argv[1]\n",
    "argument_li= commandlineArgs.split(',')\n",
    "\n",
    "for item in argument_li:\n",
    "    file_path=item\n",
    "    TextDataToDatabase(file_path)"
   ]
  },
  {
   "cell_type": "code",
   "execution_count": null,
   "metadata": {},
   "outputs": [],
   "source": []
  },
  {
   "cell_type": "code",
   "execution_count": null,
   "metadata": {},
   "outputs": [],
   "source": []
  },
  {
   "cell_type": "code",
   "execution_count": null,
   "metadata": {},
   "outputs": [],
   "source": [
    "\n",
    "       "
   ]
  },
  {
   "cell_type": "code",
   "execution_count": 7,
   "metadata": {},
   "outputs": [],
   "source": []
  },
  {
   "cell_type": "code",
   "execution_count": null,
   "metadata": {},
   "outputs": [],
   "source": []
  }
 ],
 "metadata": {
  "kernelspec": {
   "display_name": "Python 3",
   "language": "python",
   "name": "python3"
  }
 },
 "nbformat": 4,
 "nbformat_minor": 2
}
